{
  "nbformat": 4,
  "nbformat_minor": 0,
  "metadata": {
    "colab": {
      "provenance": [],
      "authorship_tag": "ABX9TyP/IoAPKtzAQYzRvuOgeptD",
      "include_colab_link": true
    },
    "kernelspec": {
      "name": "python3",
      "display_name": "Python 3"
    },
    "language_info": {
      "name": "python"
    }
  },
  "cells": [
    {
      "cell_type": "markdown",
      "metadata": {
        "id": "view-in-github",
        "colab_type": "text"
      },
      "source": [
        "<a href=\"https://colab.research.google.com/github/LilChichMM/-2/blob/main/%D0%9A%D0%A2_2_%D1%81%D0%B2%D1%8F%D0%B7%D1%8C.ipynb\" target=\"_parent\"><img src=\"https://colab.research.google.com/assets/colab-badge.svg\" alt=\"Open In Colab\"/></a>"
      ]
    },
    {
      "cell_type": "markdown",
      "source": [
        "**Создал сайт, посвещенный, связи в городе Москва. Были использованы различные элементы, для создания сайта, гиперссылки, таблицы, оглавление **"
      ],
      "metadata": {
        "id": "MGkITxDVKQYT"
      }
    },
    {
      "cell_type": "markdown",
      "source": [
        "\n",
        "\n",
        "https://sites.google.com/d/1kY02WXyS4XvcoULeQKP036SilDiLGEDN/p/1GaxyvQCFZBtmyeadEVASSOWVz2pT6LD7\n",
        "\n"
      ],
      "metadata": {
        "id": "bMkHkK2yKgKv"
      }
    }
  ]
}