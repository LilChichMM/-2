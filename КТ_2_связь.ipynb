{
  "nbformat": 4,
  "nbformat_minor": 0,
  "metadata": {
    "colab": {
      "provenance": [],
      "authorship_tag": "ABX9TyNQqjZTvmsIbo38gUv5HtUB",
      "include_colab_link": true
    },
    "kernelspec": {
      "name": "python3",
      "display_name": "Python 3"
    },
    "language_info": {
      "name": "python"
    }
  },
  "cells": [
    {
      "cell_type": "markdown",
      "metadata": {
        "id": "view-in-github",
        "colab_type": "text"
      },
      "source": [
        "<a href=\"https://colab.research.google.com/github/LilChichMM/-2/blob/main/%D0%9A%D0%A2_2_%D1%81%D0%B2%D1%8F%D0%B7%D1%8C.ipynb\" target=\"_parent\"><img src=\"https://colab.research.google.com/assets/colab-badge.svg\" alt=\"Open In Colab\"/></a>"
      ]
    },
    {
      "cell_type": "markdown",
      "source": [
        "**Создал сайт, посвещенный, связи в городе Москва. Были использованы различные элементы, для создания сайта, гиперссылки, таблицы, оглавление **"
      ],
      "metadata": {
        "id": "MGkITxDVKQYT"
      }
    },
    {
      "cell_type": "markdown",
      "source": [
        "\n",
        "\n",
        "https://sites.google.com/view/kt2-svyaz-moskva/%D0%B3%D0%BB%D0%B0%D0%B2%D0%BD%D0%B0%D1%8F-%D1%81%D1%82%D1%80%D0%B0%D0%BD%D0%B8%D1%86%D0%B0\n",
        "\n"
      ],
      "metadata": {
        "id": "bMkHkK2yKgKv"
      }
    }
  ]
}